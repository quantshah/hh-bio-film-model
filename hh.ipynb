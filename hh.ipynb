{
 "cells": [
  {
   "cell_type": "code",
   "execution_count": 11,
   "metadata": {
    "collapsed": true
   },
   "outputs": [],
   "source": [
    "#!/usr/bin/env python\n",
    "\n",
    "\"\"\"hh.py: A variant of the Hodgkin-Huxley equations given in the paper \n",
    "\"Ion channels enable electrical communication in bacterial communities\" \n",
    "[http://www.nature.com/nature/journal/v527/n7576/full/nature15709.html].\"\"\"\n",
    "\n",
    "__author__ = \"Shahnawaz Ahmed\"\n",
    "__email__ = \"shd339@gmail.com\""
   ]
  },
  {
   "cell_type": "code",
   "execution_count": 18,
   "metadata": {
    "collapsed": true
   },
   "outputs": [],
   "source": [
    "import matplotlib.pyplot as plt\n",
    "import matplotlib as mpl\n",
    "from scipy.integrate import odeint,ode\n",
    "import numpy as np\n",
    "import pandas as pd\n",
    "import math\n",
    "# Uncomment the following line to get plots in a seperate window \n",
    "%matplotlib inline"
   ]
  },
  {
   "cell_type": "code",
   "execution_count": 19,
   "metadata": {
    "collapsed": false
   },
   "outputs": [],
   "source": [
    "# define parameters for model\n",
    "params = {\n",
    "        'g_K'  :        30,       #min^-1,\n",
    "        'g_L'  :        0.2,      #min^-1, \n",
    "        'V_K0' :       -380,      #mV,\n",
    "        'V_L0' :       -156,      #mV,\n",
    "        'S_th' :        40,\n",
    "        'V_th' :       -150,\n",
    "        'alpha_0' :     2,\n",
    "        'beta' :        1.3,\n",
    "        'm'    :        1,\n",
    "        'F'    :        5.6,\n",
    "        'sigma':        0.2,\n",
    "    'delta_K'  :        1,\n",
    "    'delta_L'  :        8,\n",
    "    'gamma_s'  :        0.1,\n",
    "    'gamma_e'  :        10,\n",
    "    'gamma_t'  :        4,\n",
    "    'alpha_s'  :        1,\n",
    "    'alpha_t'  :        1,\n",
    "    'D'        :        13.8*(10**(-6))   \n",
    "}\n",
    "# Define the value of e\n",
    "e = math.exp(1)"
   ]
  },
  {
   "cell_type": "code",
   "execution_count": 20,
   "metadata": {
    "collapsed": false
   },
   "outputs": [],
   "source": [
    "def HodgkinHuxley(y0,t):\n",
    "    V,n,S,E,T = y0\n",
    "    \n",
    "    V_k   = lambda E : params['V_K0'] + params['delta_K']*E\n",
    "    V_l   = lambda E : params['V_L0'] + params['delta_L']*E    \n",
    "    alpha = lambda S : (params['alpha_0']*(S**params['m'])) / (params['S_th']**params['m'] + S**params['m'])\n",
    "    \n",
    "    # all differential equations are wrt to time\n",
    "    V_diff = lambda n,V : (-1)*params['g_K']*(n**4)*(V - V_k(E)) - params['g_L']*(V - V_l(E))\n",
    "    n_diff = lambda S,n : alpha(S)*(1-n) - params['beta']*n\n",
    "    # verify exp formula\n",
    "    S_diff = lambda V,S : (params['alpha_s']*(params['V_th'] - V))/(e**((params['V_th'] - V)/params['sigma']) - 1 ) - params['gamma_s']*S                                         \n",
    "    E_diff = lambda n,V,E : params['F']*params['g_K']*(n**4)*(V - V_k(E)) - params['gamma_e']*E\n",
    "    T_diff = lambda V,T : params['alpha_t']*(params['V_L0'] - V) - params['gamma_t']*T\n",
    "    \n",
    "    return V_diff(n,V),n_diff(S,n),S_diff(V,S),E_diff(n,V,E),T_diff(V,T)"
   ]
  },
  {
   "cell_type": "code",
   "execution_count": 21,
   "metadata": {
    "collapsed": false
   },
   "outputs": [],
   "source": [
    "# initial values\n",
    "V0 = -152.0\n",
    "n0 = 0.10\n",
    "S0 = 100.0\n",
    "E0 = 100.0\n",
    "T0 = 100.0\n",
    "\n",
    "y0 = [V0,n0,S0,E0,T0]\n",
    "# time interval spacing\n",
    "h = .05\n",
    "t_initial = 0\n",
    "t_final = 100\n",
    "t = np.arange(t_initial,t_final,h)"
   ]
  },
  {
   "cell_type": "code",
   "execution_count": 22,
   "metadata": {
    "collapsed": false
   },
   "outputs": [],
   "source": [
    "# Get the solutions, Note that each row gives values after one iteration\n",
    "# Use X(:,i) i = 0,1,2 to access the membrane voltage, n, Stress value etc\n",
    "X = odeint(HodgkinHuxley, y0, t )"
   ]
  },
  {
   "cell_type": "code",
   "execution_count": 23,
   "metadata": {
    "collapsed": false
   },
   "outputs": [
    {
     "data": {
      "text/html": [
       "<div>\n",
       "<table border=\"1\" class=\"dataframe\">\n",
       "  <thead>\n",
       "    <tr style=\"text-align: right;\">\n",
       "      <th></th>\n",
       "      <th>V</th>\n",
       "      <th>n</th>\n",
       "      <th>S</th>\n",
       "      <th>E</th>\n",
       "      <th>T</th>\n",
       "    </tr>\n",
       "  </thead>\n",
       "  <tbody>\n",
       "    <tr>\n",
       "      <th>0</th>\n",
       "      <td>-152.000000</td>\n",
       "      <td>0.100000</td>\n",
       "      <td>100.000000</td>\n",
       "      <td>100.000000</td>\n",
       "      <td>100.000000</td>\n",
       "    </tr>\n",
       "    <tr>\n",
       "      <th>1</th>\n",
       "      <td>-145.837295</td>\n",
       "      <td>0.153979</td>\n",
       "      <td>99.583081</td>\n",
       "      <td>60.978719</td>\n",
       "      <td>81.535096</td>\n",
       "    </tr>\n",
       "    <tr>\n",
       "      <th>2</th>\n",
       "      <td>-142.368642</td>\n",
       "      <td>0.201029</td>\n",
       "      <td>99.389652</td>\n",
       "      <td>38.352367</td>\n",
       "      <td>66.205318</td>\n",
       "    </tr>\n",
       "    <tr>\n",
       "      <th>3</th>\n",
       "      <td>-140.740210</td>\n",
       "      <td>0.242064</td>\n",
       "      <td>99.321628</td>\n",
       "      <td>26.763686</td>\n",
       "      <td>53.542638</td>\n",
       "    </tr>\n",
       "    <tr>\n",
       "      <th>4</th>\n",
       "      <td>-140.447607</td>\n",
       "      <td>0.277866</td>\n",
       "      <td>99.300156</td>\n",
       "      <td>22.991942</td>\n",
       "      <td>43.134303</td>\n",
       "    </tr>\n",
       "  </tbody>\n",
       "</table>\n",
       "</div>"
      ],
      "text/plain": [
       "            V         n           S           E           T\n",
       "0 -152.000000  0.100000  100.000000  100.000000  100.000000\n",
       "1 -145.837295  0.153979   99.583081   60.978719   81.535096\n",
       "2 -142.368642  0.201029   99.389652   38.352367   66.205318\n",
       "3 -140.740210  0.242064   99.321628   26.763686   53.542638\n",
       "4 -140.447607  0.277866   99.300156   22.991942   43.134303"
      ]
     },
     "execution_count": 23,
     "metadata": {},
     "output_type": "execute_result"
    }
   ],
   "source": [
    "# Put all the values in a Pandas Data frame and label the columns\n",
    "sols = pd.DataFrame(X, columns=[\"V\",\"n\",\"S\",\"E\",\"T\"])\n",
    "sols.head()"
   ]
  },
  {
   "cell_type": "code",
   "execution_count": 26,
   "metadata": {
    "collapsed": false
   },
   "outputs": [
    {
     "data": {
      "image/png": "[encoded data removed]",
      "text/plain": [
       "<matplotlib.figure.Figure at 0xa812486c>"
      ]
     },
     "metadata": {},
     "output_type": "display_data"
    }
   ],
   "source": [
    "# We plot 4 variables V,T,S,E\n",
    "plt.figure(figsize=(10,10))\n",
    "plt.subplot(4,1,1)\n",
    "plt.title('Plots')\n",
    "\n",
    "plt.subplot(4,1,1)\n",
    "plt.plot(t, sols['V'])\n",
    "plt.ylabel('V (mV)')\n",
    "plt.legend()\n",
    "\n",
    "plt.subplot(4,1,2)\n",
    "plt.plot(t, sols['T'])\n",
    "plt.ylabel('T in conc. units')\n",
    "plt.legend()\n",
    "\n",
    "\n",
    "plt.subplot(4,1,3)\n",
    "plt.plot(t, sols['S'])\n",
    "plt.ylabel('S in conc. units')\n",
    "plt.legend()\n",
    "\n",
    "plt.subplot(4,1,4)\n",
    "plt.plot(t, sols['E'])\n",
    "plt.ylabel('E in conc. units)')\n",
    "plt.legend()\n",
    "plt.show()\n",
    "\n",
    "plt.close()"
   ]
  },
  {
   "cell_type": "code",
   "execution_count": null,
   "metadata": {
    "collapsed": true
   },
   "outputs": [],
   "source": []
  }
 ],
 "metadata": {
  "kernelspec": {
   "display_name": "Python 3",
   "language": "python",
   "name": "python3"
  },
  "language_info": {
   "codemirror_mode": {
    "name": "ipython",
    "version": 3
   },
   "file_extension": ".py",
   "mimetype": "text/x-python",
   "name": "python",
   "nbconvert_exporter": "python",
   "pygments_lexer": "ipython3",
   "version": "3.5.1"
  }
 },
 "nbformat": 4,
 "nbformat_minor": 0
}
